{
 "cells": [
  {
   "cell_type": "code",
   "execution_count": 1,
   "metadata": {},
   "outputs": [],
   "source": [
    "import os, sys\n",
    "\n",
    "import numpy as np\n",
    "import matplotlib.pyplot as plt\n",
    "from matplotlib.table import Table"
   ]
  },
  {
   "cell_type": "code",
   "execution_count": 2,
   "metadata": {},
   "outputs": [],
   "source": [
    "WORLD_SIZE = 4\n",
    "ACTION_PROB = 0.25\n",
    "REWARD = -1\n",
    "\n",
    "actions = ['L', 'U', 'R', 'D']\n",
    "world = np.zeros((WORLD_SIZE, WORLD_SIZE))"
   ]
  },
  {
   "cell_type": "code",
   "execution_count": 3,
   "metadata": {},
   "outputs": [],
   "source": [
    "next_state = []\n",
    "\n",
    "for i in range(WORLD_SIZE):\n",
    "    next_state.append([])\n",
    "    for j in range(0, WORLD_SIZE):\n",
    "        next = dict()\n",
    "        if i == 0:\n",
    "            next['U'] = [i, j]\n",
    "        else:\n",
    "            next['U'] = [i - 1, j]\n",
    "\n",
    "        if i == WORLD_SIZE - 1:\n",
    "            next['D'] = [i, j]\n",
    "        else:\n",
    "            next['D'] = [i + 1, j]\n",
    "\n",
    "        if j == 0:\n",
    "            next['L'] = [i, j]\n",
    "        else:\n",
    "            next['L'] = [i, j - 1]\n",
    "\n",
    "        if j == WORLD_SIZE - 1:\n",
    "            next['R'] = [i, j]\n",
    "        else:\n",
    "            next['R'] = [i, j + 1]\n",
    "\n",
    "        next_state[i].append(next)\n",
    "        "
   ]
  },
  {
   "cell_type": "code",
   "execution_count": 4,
   "metadata": {},
   "outputs": [],
   "source": [
    "states = []\n",
    "\n",
    "for i in range(WORLD_SIZE):\n",
    "    for j in range(WORLD_SIZE):\n",
    "        if (i==0 and j == 0) or (i==WORLD_SIZE-1 and j == WORLD_SIZE-1):\n",
    "            continue\n",
    "        else:\n",
    "            states.append([i, j])\n",
    "            "
   ]
  },
  {
   "cell_type": "code",
   "execution_count": 5,
   "metadata": {},
   "outputs": [],
   "source": [
    "def draw_image(image):\n",
    "    fig, ax = plt.subplots()\n",
    "    ax.set_axis_off()\n",
    "    tb = Table(ax, bbox=[0,0,1,1])\n",
    "\n",
    "    nrows, ncols = image.shape\n",
    "    width, height = 1.0 / ncols, 1.0 / nrows\n",
    "\n",
    "    # Add cells\n",
    "    for (i,j), val in np.ndenumerate(image):\n",
    "        # Index either the first or second item of bkg_colors based on\n",
    "        # a checker board pattern\n",
    "        idx = [j % 2, (j + 1) % 2][i % 2]\n",
    "        color = 'white'\n",
    "\n",
    "        tb.add_cell(i, j, width, height, text=val, \n",
    "                    loc='center', facecolor=color)\n",
    "\n",
    "    # Row Labels...\n",
    "    for i, label in enumerate(range(len(image))):\n",
    "        tb.add_cell(i, -1, width, height, text=label+1, loc='right', \n",
    "                    edgecolor='none', facecolor='none')\n",
    "    # Column Labels...\n",
    "    for j, label in enumerate(range(len(image))):\n",
    "        tb.add_cell(-1, j, width, height/2, text=label+1, loc='center', \n",
    "                           edgecolor='none', facecolor='none')\n",
    "    ax.add_table(tb)\n",
    "    plt.show()\n",
    "\n"
   ]
  },
  {
   "cell_type": "code",
   "execution_count": 6,
   "metadata": {},
   "outputs": [
    {
     "name": "stdout",
     "output_type": "stream",
     "text": [
      "Random Policy\n"
     ]
    },
    {
     "data": {
      "image/png": "[encoded data removed]",
      "text/plain": [
       "<Figure size 432x288 with 1 Axes>"
      ]
     },
     "metadata": {},
     "output_type": "display_data"
    }
   ],
   "source": [
    "\n",
    "while True:\n",
    "    newWorld = np.zeros((WORLD_SIZE, WORLD_SIZE))\n",
    "    for i, j in states:\n",
    "        for action in actions:\n",
    "            newPosition = next_state[i][j][action]\n",
    "            newWorld[i, j] += ACTION_PROB * (REWARD + world[newPosition[0], newPosition[1]])\n",
    "    if np.sum(np.abs(world - newWorld)) < 1e-4:\n",
    "        print('Random Policy')\n",
    "        draw_image(np.round(newWorld, decimals=2))\n",
    "        break\n",
    "    world = newWorld"
   ]
  }
 ],
 "metadata": {
  "kernelspec": {
   "display_name": "Python 3",
   "language": "python",
   "name": "python3"
  },
  "language_info": {
   "codemirror_mode": {
    "name": "ipython",
    "version": 3
   },
   "file_extension": ".py",
   "mimetype": "text/x-python",
   "name": "python",
   "nbconvert_exporter": "python",
   "pygments_lexer": "ipython3",
   "version": "3.6.4"
  }
 },
 "nbformat": 4,
 "nbformat_minor": 2
}
